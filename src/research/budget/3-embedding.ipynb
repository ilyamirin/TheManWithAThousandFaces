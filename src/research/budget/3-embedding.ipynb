{
 "nbformat": 4,
 "nbformat_minor": 2,
 "metadata": {
  "language_info": {
   "name": "python",
   "codemirror_mode": {
    "name": "ipython",
    "version": 3
   },
   "version": "3.6.9-final"
  },
  "orig_nbformat": 2,
  "file_extension": ".py",
  "mimetype": "text/x-python",
  "name": "python",
  "npconvert_exporter": "python",
  "pygments_lexer": "ipython3",
  "version": 3,
  "kernelspec": {
   "name": "python36964bitvenvvenv5ea2b9d028884ecdb1defa97f4866164",
   "display_name": "Python 3.6.9 64-bit ('.venv': venv)"
  }
 },
 "cells": [
  {
   "cell_type": "code",
   "execution_count": 1,
   "metadata": {},
   "outputs": [],
   "source": [
    "RESOURCES_PATH = '../../resources'"
   ]
  },
  {
   "cell_type": "code",
   "execution_count": 2,
   "metadata": {},
   "outputs": [],
   "source": [
    "from pathlib import Path\n",
    "import re\n",
    "import pickle\n",
    "import numpy as np\n",
    "import pandas as pd\n",
    "import fasttext"
   ]
  },
  {
   "cell_type": "code",
   "execution_count": 3,
   "metadata": {},
   "outputs": [
    {
     "output_type": "execute_result",
     "data": {
      "text/plain": "                        object financing  \\\n0                   Абитуриент             \n1  Административные расходы МЦ             \n2            Аккредитация ДВФУ             \n3                БРИКС_ВИ-ШРМИ             \n4                БРИКС_ВИ-ШРМИ             \n\n                                             project  \\\n0                                                      \n1                                                      \n2                                                      \n3                                                      \n4  Создание в ДВФУ системы международной академич...   \n\n                       budget  count  \n0                   Ппкс 2020     45  \n1  Внебюджет - Медицина (ОМС)    304  \n2     Внебюджет - Образование   1011  \n3     Внебюджет - Образование      4  \n4                   Ппкс 2020     30  ",
      "text/html": "<div>\n<style scoped>\n    .dataframe tbody tr th:only-of-type {\n        vertical-align: middle;\n    }\n\n    .dataframe tbody tr th {\n        vertical-align: top;\n    }\n\n    .dataframe thead th {\n        text-align: right;\n    }\n</style>\n<table border=\"1\" class=\"dataframe\">\n  <thead>\n    <tr style=\"text-align: right;\">\n      <th></th>\n      <th>object</th>\n      <th>financing</th>\n      <th>project</th>\n      <th>budget</th>\n      <th>count</th>\n    </tr>\n  </thead>\n  <tbody>\n    <tr>\n      <th>0</th>\n      <td>Абитуриент</td>\n      <td></td>\n      <td></td>\n      <td>Ппкс 2020</td>\n      <td>45</td>\n    </tr>\n    <tr>\n      <th>1</th>\n      <td>Административные расходы МЦ</td>\n      <td></td>\n      <td></td>\n      <td>Внебюджет - Медицина (ОМС)</td>\n      <td>304</td>\n    </tr>\n    <tr>\n      <th>2</th>\n      <td>Аккредитация ДВФУ</td>\n      <td></td>\n      <td></td>\n      <td>Внебюджет - Образование</td>\n      <td>1011</td>\n    </tr>\n    <tr>\n      <th>3</th>\n      <td>БРИКС_ВИ-ШРМИ</td>\n      <td></td>\n      <td></td>\n      <td>Внебюджет - Образование</td>\n      <td>4</td>\n    </tr>\n    <tr>\n      <th>4</th>\n      <td>БРИКС_ВИ-ШРМИ</td>\n      <td></td>\n      <td>Создание в ДВФУ системы международной академич...</td>\n      <td>Ппкс 2020</td>\n      <td>30</td>\n    </tr>\n  </tbody>\n</table>\n</div>"
     },
     "metadata": {},
     "execution_count": 3
    }
   ],
   "source": [
    "cleared_df = pd.read_csv(f'{RESOURCES_PATH}/dataset/budget/cleared.tsv', sep='\\t')\n",
    "orig_df = pd.read_csv(f'{RESOURCES_PATH}/dataset/budget/original.tsv', sep='\\t')\n",
    "\n",
    "cleared_df.fillna('', inplace=True)\n",
    "orig_df.fillna('', inplace=True)\n",
    "\n",
    "cleared_df.head()"
   ]
  },
  {
   "cell_type": "code",
   "execution_count": 4,
   "metadata": {},
   "outputs": [
    {
     "output_type": "execute_result",
     "data": {
      "text/plain": "'hello world a4 привет мир 8394 42'"
     },
     "metadata": {},
     "execution_count": 4
    }
   ],
   "source": [
    "def clear_text(text):\n",
    "    lower_cased = text.lower()\n",
    "    without_special_chars = re.sub(r\"[^a-zА-я0-9 ]\", '', lower_cased)\n",
    "    without_excess_spaces = re.sub(r\" {2,}\", ' ', without_special_chars)\n",
    "    stripped = without_excess_spaces.strip()\n",
    "    return stripped\n",
    "\n",
    "clear_text('Hello World, A4 \"Привет мир\": 8394! » | ¶ 42')"
   ]
  },
  {
   "cell_type": "code",
   "execution_count": 5,
   "metadata": {},
   "outputs": [
    {
     "output_type": "execute_result",
     "data": {
      "text/plain": "(196, 93)"
     },
     "metadata": {},
     "execution_count": 5
    }
   ],
   "source": [
    "objects = list(set(cleared_df.object.unique()).union(orig_df.object.unique()))\n",
    "projects = list(set(cleared_df.project.unique()).union(orig_df.project.unique()))\n",
    "\n",
    "len(objects), len(projects)"
   ]
  },
  {
   "cell_type": "markdown",
   "execution_count": null,
   "metadata": {},
   "outputs": [],
   "source": [
    "## Embed phrases"
   ]
  },
  {
   "cell_type": "code",
   "execution_count": 6,
   "metadata": {},
   "outputs": [],
   "source": [
    "Path(f'{RESOURCES_PATH}/cache/budget').mkdir(parents=True, exist_ok=True)"
   ]
  },
  {
   "cell_type": "code",
   "execution_count": 7,
   "metadata": {},
   "outputs": [],
   "source": [
    "def get_embedding_map(to_vector_fn):\n",
    "    result = {\n",
    "        'object': {},\n",
    "        'project': {'': np.array([])}\n",
    "    }\n",
    "\n",
    "    for obj in objects:\n",
    "        result['object'][obj] = to_vector_fn(clear_text(obj))\n",
    "    \n",
    "    for project in projects:\n",
    "        result['project'][project] = to_vector_fn(clear_text(project))\n",
    "\n",
    "    return result"
   ]
  },
  {
   "cell_type": "markdown",
   "execution_count": null,
   "metadata": {},
   "outputs": [],
   "source": [
    "### fastText"
   ]
  },
  {
   "cell_type": "code",
   "execution_count": 8,
   "metadata": {},
   "outputs": [
    {
     "output_type": "stream",
     "name": "stderr",
     "text": "\n"
    }
   ],
   "source": [
    "ft_model = fasttext.load_model(f'{RESOURCES_PATH}/pretrained/dp-fasttext.bin')"
   ]
  },
  {
   "cell_type": "code",
   "execution_count": 9,
   "metadata": {},
   "outputs": [
    {
     "output_type": "execute_result",
     "data": {
      "text/plain": "(2, 300)"
     },
     "metadata": {},
     "execution_count": 9
    }
   ],
   "source": [
    "def to_fasttext_vector(phrase):\n",
    "    return np.array(list(map(ft_model.get_word_vector, phrase.split())))\n",
    "\n",
    "to_fasttext_vector('привет мир').shape"
   ]
  },
  {
   "cell_type": "code",
   "execution_count": 10,
   "metadata": {},
   "outputs": [],
   "source": [
    "ft_embedding_map = get_embedding_map(to_fasttext_vector)"
   ]
  },
  {
   "cell_type": "code",
   "execution_count": 11,
   "metadata": {},
   "outputs": [],
   "source": [
    "with open(f'{RESOURCES_PATH}/cache/budget/fasttext_embedding_map.pkl', 'wb') as fout:\n",
    "    pickle.dump(ft_embedding_map, fout, pickle.HIGHEST_PROTOCOL)"
   ]
  },
  {
   "cell_type": "markdown",
   "execution_count": null,
   "metadata": {},
   "outputs": [],
   "source": [
    "## Chose optimal max embedding length"
   ]
  },
  {
   "cell_type": "markdown",
   "execution_count": null,
   "metadata": {},
   "outputs": [],
   "source": [
    "### fastText"
   ]
  },
  {
   "cell_type": "code",
   "execution_count": 12,
   "metadata": {},
   "outputs": [
    {
     "output_type": "stream",
     "name": "stdout",
     "text": "\nfastText length quantile:\n\nObjects:\n0.500    3.0\n0.900    7.0\n0.950    7.0\n0.990    9.0\n0.999    9.0\n1.000    9.0\ndtype: float64\n\nDescription:\n0.500     3.000\n0.900     5.000\n0.950     7.000\n0.990     9.080\n0.999     9.908\n1.000    10.000\ndtype: float64\n\n=> phrase length isn't too long so choose 15 to cover future cases\n\n"
    }
   ],
   "source": [
    "with open(f'{RESOURCES_PATH}/cache/budget/fasttext_embedding_map.pkl', 'rb') as fin:\n",
    "    ft_embedding_map = pickle.load(fin)\n",
    "\n",
    "print(f'''\n",
    "fastText length quantile:\n",
    "\n",
    "Objects:\n",
    "{pd.Series([len(ft_embedding_map['object'][k]) for k in ft_embedding_map['object']]).quantile([.5, .9, .95, .99, .999, 1])}\n",
    "\n",
    "Description:\n",
    "{pd.Series([len(ft_embedding_map['project'][k]) for k in ft_embedding_map['project']]).quantile([.5, .9, .95, .99, .999, 1])}\n",
    "\n",
    "=> phrase length isn't too long so choose 15 to cover future cases\n",
    "''')"
   ]
  },
  {
   "cell_type": "code",
   "execution_count": null,
   "metadata": {},
   "outputs": [],
   "source": []
  }
 ]
}