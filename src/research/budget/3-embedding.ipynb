{
 "cells": [
  {
   "cell_type": "code",
   "execution_count": null,
   "metadata": {},
   "outputs": [],
   "source": [
    "RESOURCES_PATH = '../../resources'"
   ]
  },
  {
   "cell_type": "code",
   "execution_count": null,
   "metadata": {},
   "outputs": [],
   "source": [
    "from pathlib import Path\n",
    "import re\n",
    "import pickle\n",
    "import numpy as np\n",
    "import pandas as pd\n",
    "import fasttext"
   ]
  },
  {
   "cell_type": "code",
   "execution_count": null,
   "metadata": {},
   "outputs": [],
   "source": [
    "cleared_df = pd.read_csv(f'{RESOURCES_PATH}/dataset/budget/cleared.tsv', sep='\\t')\n",
    "orig_df = pd.read_csv(f'{RESOURCES_PATH}/dataset/budget/original.tsv', sep='\\t')\n",
    "\n",
    "cleared_df.fillna('', inplace=True)\n",
    "orig_df.fillna('', inplace=True)\n",
    "\n",
    "cleared_df.head()"
   ]
  },
  {
   "cell_type": "code",
   "execution_count": null,
   "metadata": {},
   "outputs": [],
   "source": [
    "def clear_text(text):\n",
    "    lower_cased = text.lower()\n",
    "    without_special_chars = re.sub(r\"[^a-zА-я0-9 ]\", '', lower_cased)\n",
    "    without_excess_spaces = re.sub(r\" {2,}\", ' ', without_special_chars)\n",
    "    stripped = without_excess_spaces.strip()\n",
    "    return stripped\n",
    "\n",
    "clear_text('Hello World, A4 \"Привет мир\": 8394! » | ¶ 42')"
   ]
  },
  {
   "cell_type": "code",
   "execution_count": null,
   "metadata": {},
   "outputs": [],
   "source": [
    "objects = list(set(cleared_df.object.unique()).union(orig_df.object.unique()))\n",
    "projects = list(set(cleared_df.project.unique()).union(orig_df.project.unique()))\n",
    "\n",
    "len(objects), len(projects)"
   ]
  },
  {
   "cell_type": "markdown",
   "metadata": {},
   "source": [
    "## Embed phrases"
   ]
  },
  {
   "cell_type": "code",
   "execution_count": null,
   "metadata": {},
   "outputs": [],
   "source": [
    "Path(f'{RESOURCES_PATH}/cache/budget').mkdir(parents=True, exist_ok=True)"
   ]
  },
  {
   "cell_type": "code",
   "execution_count": null,
   "metadata": {},
   "outputs": [],
   "source": [
    "def get_embedding_map(to_vector_fn):\n",
    "    result = {\n",
    "        'object': {},\n",
    "        'project': {'': np.array([])}\n",
    "    }\n",
    "\n",
    "    for obj in objects:\n",
    "        result['object'][obj] = to_vector_fn(clear_text(obj))\n",
    "    \n",
    "    for project in projects:\n",
    "        result['project'][project] = to_vector_fn(clear_text(project))\n",
    "\n",
    "    return result"
   ]
  },
  {
   "cell_type": "markdown",
   "metadata": {},
   "source": [
    "### fastText"
   ]
  },
  {
   "cell_type": "code",
   "execution_count": null,
   "metadata": {
    "tags": []
   },
   "outputs": [],
   "source": [
    "ft_model = fasttext.load_model(f'{RESOURCES_PATH}/pretrained/dp-fasttext.bin')"
   ]
  },
  {
   "cell_type": "code",
   "execution_count": null,
   "metadata": {},
   "outputs": [],
   "source": [
    "def to_fasttext_vector(phrase):\n",
    "    return np.array(list(map(ft_model.get_word_vector, phrase.split())))\n",
    "\n",
    "to_fasttext_vector('привет мир').shape"
   ]
  },
  {
   "cell_type": "code",
   "execution_count": null,
   "metadata": {},
   "outputs": [],
   "source": [
    "ft_embedding_map = get_embedding_map(to_fasttext_vector)"
   ]
  },
  {
   "cell_type": "code",
   "execution_count": null,
   "metadata": {},
   "outputs": [],
   "source": [
    "with open(f'{RESOURCES_PATH}/cache/budget/fasttext_embedding_map.pkl', 'wb') as fout:\n",
    "    pickle.dump(ft_embedding_map, fout, pickle.HIGHEST_PROTOCOL)"
   ]
  },
  {
   "cell_type": "markdown",
   "metadata": {},
   "source": [
    "## Chose optimal max embedding length"
   ]
  },
  {
   "cell_type": "markdown",
   "metadata": {},
   "source": [
    "### fastText"
   ]
  },
  {
   "cell_type": "code",
   "execution_count": null,
   "metadata": {
    "tags": []
   },
   "outputs": [],
   "source": [
    "with open(f'{RESOURCES_PATH}/cache/budget/fasttext_embedding_map.pkl', 'rb') as fin:\n",
    "    ft_embedding_map = pickle.load(fin)\n",
    "\n",
    "print(f'''\n",
    "fastText length quantile:\n",
    "\n",
    "Objects:\n",
    "{pd.Series([len(ft_embedding_map['object'][k]) for k in ft_embedding_map['object']]).quantile([.5, .9, .95, .99, .999, 1])}\n",
    "\n",
    "Description:\n",
    "{pd.Series([len(ft_embedding_map['project'][k]) for k in ft_embedding_map['project']]).quantile([.5, .9, .95, .99, .999, 1])}\n",
    "\n",
    "=> phrase length isn't too long so choose 15 to cover future cases\n",
    "''')"
   ]
  },
  {
   "cell_type": "code",
   "execution_count": null,
   "metadata": {},
   "outputs": [],
   "source": []
  }
 ],
 "metadata": {
  "language_info": {
   "name": "python",
   "codemirror_mode": {
    "name": "ipython",
    "version": 3
   },
   "version": "3.6.9-final"
  },
  "orig_nbformat": 2,
  "file_extension": ".py",
  "mimetype": "text/x-python",
  "name": "python",
  "npconvert_exporter": "python",
  "pygments_lexer": "ipython3",
  "version": 3,
  "kernelspec": {
   "name": "python36964bitvenvvenv5ea2b9d028884ecdb1defa97f4866164",
   "display_name": "Python 3.6.9 64-bit ('.venv': venv)"
  }
 },
 "nbformat": 4,
 "nbformat_minor": 2
}