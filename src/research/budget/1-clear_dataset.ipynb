{
 "nbformat": 4,
 "nbformat_minor": 2,
 "metadata": {
  "language_info": {
   "name": "python",
   "codemirror_mode": {
    "name": "ipython",
    "version": 3
   },
   "version": "3.6.9-final"
  },
  "orig_nbformat": 2,
  "file_extension": ".py",
  "mimetype": "text/x-python",
  "name": "python",
  "npconvert_exporter": "python",
  "pygments_lexer": "ipython3",
  "version": 3,
  "kernelspec": {
   "name": "python36964bitvenvvenv5ea2b9d028884ecdb1defa97f4866164",
   "display_name": "Python 3.6.9 64-bit ('.venv': venv)"
  }
 },
 "cells": [
  {
   "cell_type": "code",
   "execution_count": null,
   "metadata": {},
   "outputs": [],
   "source": [
    "RESOURCES_PATH = '../../resources'"
   ]
  },
  {
   "cell_type": "code",
   "execution_count": null,
   "metadata": {},
   "outputs": [],
   "source": [
    "from pathlib import Path\n",
    "from datetime import datetime\n",
    "import re\n",
    "import pandas as pd\n",
    "import numpy as np"
   ]
  },
  {
   "cell_type": "markdown",
   "execution_count": null,
   "metadata": {},
   "outputs": [],
   "source": [
    "## Load dataset"
   ]
  },
  {
   "cell_type": "code",
   "execution_count": null,
   "metadata": {},
   "outputs": [],
   "source": [
    "df = pd.read_csv(f'{RESOURCES_PATH}/dataset/original.csv')\n",
    "\n",
    "print(f'Length: {len(df)}')\n",
    "df.head()"
   ]
  },
  {
   "cell_type": "code",
   "execution_count": null,
   "metadata": {},
   "outputs": [],
   "source": [
    "df = df[['object', 'financing', 'project', 'budget']]\n",
    "df"
   ]
  },
  {
   "cell_type": "code",
   "execution_count": null,
   "metadata": {},
   "outputs": [],
   "source": [
    "df.isnull().sum()"
   ]
  },
  {
   "cell_type": "code",
   "execution_count": null,
   "metadata": {},
   "outputs": [],
   "source": [
    "df.drop(df[df.budget.isnull()].index, inplace=True)\n",
    "df.isnull().sum()"
   ]
  },
  {
   "cell_type": "code",
   "execution_count": null,
   "metadata": {},
   "outputs": [],
   "source": [
    "df.financing.replace('БЕЗ ВЦС', np.NaN, inplace=True)\n",
    "df.isnull().sum()"
   ]
  },
  {
   "cell_type": "code",
   "execution_count": null,
   "metadata": {},
   "outputs": [],
   "source": [
    "df.isnull().sum() / len(df)"
   ]
  },
  {
   "cell_type": "code",
   "execution_count": null,
   "metadata": {},
   "outputs": [],
   "source": [
    "df.nunique()"
   ]
  },
  {
   "cell_type": "markdown",
   "execution_count": null,
   "metadata": {},
   "outputs": [],
   "source": [
    "## Replace year-specific target to current year target"
   ]
  },
  {
   "cell_type": "code",
   "execution_count": null,
   "metadata": {},
   "outputs": [],
   "source": [
    "current_year = datetime.now().year - 2000\n",
    "\n",
    "for i in range(10, current_year):\n",
    "    df.budget.replace(f'Ппкс 20{i}', f'Ппкс 20{current_year}', inplace=True)\n",
    "    df.budget.replace(f'Субсидия на ИЦ_ОЗОБ 20{i}', f'Субсидия на ИЦ_ОЗОБ 20{current_year}', inplace=True)"
   ]
  },
  {
   "cell_type": "markdown",
   "metadata": {},
   "source": [
    "## Present the 'financing' feature as mask"
   ],
   "execution_count": null,
   "outputs": []
  },
  {
   "cell_type": "code",
   "execution_count": null,
   "metadata": {},
   "outputs": [],
   "source": [
    "financing_mask_map = {\n",
    "    'Ханьбань, КНР':     'Ханьбань, КНР',\n",
    "    'Дальнефтепровод':   'Дальнефтепровод',\n",
    "    'Фонд Оксфорда':     'Фонд Оксфорда',\n",
    "    'ЭАЦ':               'ЭАЦ',\n",
    "    'УНМ':               'УНМ',\n",
    "    'Роснефть-классы':   'Роснефть-классы',\n",
    "    'Д-000-00':          r'^Д-\\d{1,3}-\\d{2}(_.+)?(\\/\\d+)?$',\n",
    "    '00-00-00000':       r'^\\d{2}-\\d{2,3}-\\d{5}(\\/\\d{2})?(-П)?$',\n",
    "    '000000/00000Д':     r'^\\d{6,7}\\/\\d{4,5}Д$',\n",
    "    '0000-0000/000-000': r'^\\d{4}-\\d{4}\\/\\d{3}-\\d{3}$',\n",
    "    '000-00Т':           r'^\\d{3}\\/\\d{2}Т$',\n",
    "    '0000-000-00-0':     r'^\\d{4}-\\d{3}-\\d{2}-\\d$',\n",
    "    'DD-MM-YY':          r'^\\d{2}-\\d{2}-\\d{2}$',\n",
    "    '0/0000/0000':       r'^\\d{1}\\/\\d{4}\\/\\d{4}$',\n",
    "    '00.000.00.0000':    r'^\\d{2}\\.\\d{3}\\.\\d{2}\\.\\d{4}$',\n",
    "    '000-00-0000-000/0': r'^\\d{3}-\\d{2}-\\d{4}-\\d{3}\\/\\d$',\n",
    "    'МК-0000.0000.0':    r'^МК-\\d{4}\\.\\d{4}\\.\\d(\\/\\d{2})?$'\n",
    "}"
   ]
  },
  {
   "cell_type": "code",
   "execution_count": null,
   "metadata": {},
   "outputs": [],
   "source": [
    "def transform_financing(value):\n",
    "    if str(value) == 'nan':\n",
    "        return np.NaN\n",
    "\n",
    "    for k in financing_mask_map:\n",
    "        if re.match(financing_mask_map[k], value):\n",
    "            return k\n",
    "\n",
    "    return 'TO DELETE'"
   ]
  },
  {
   "cell_type": "code",
   "execution_count": null,
   "metadata": {},
   "outputs": [],
   "source": [
    "df.financing = df.financing.apply(transform_financing)\n",
    "df.financing.value_counts()"
   ]
  },
  {
   "cell_type": "code",
   "execution_count": null,
   "metadata": {},
   "outputs": [],
   "source": [
    "df.drop(df[df.financing == 'TO DELETE'].index, inplace=True)"
   ]
  },
  {
   "cell_type": "markdown",
   "execution_count": null,
   "metadata": {},
   "outputs": [],
   "source": [
    "#### Define original dataset"
   ]
  },
  {
   "cell_type": "code",
   "execution_count": null,
   "metadata": {},
   "outputs": [],
   "source": [
    "orig_df = df.copy()"
   ]
  },
  {
   "cell_type": "markdown",
   "execution_count": null,
   "metadata": {},
   "outputs": [],
   "source": [
    "## Clear to unique tuples"
   ]
  },
  {
   "cell_type": "code",
   "execution_count": null,
   "metadata": {},
   "outputs": [],
   "source": [
    "df.fillna('None', inplace=True) # Fill N/A for correct grouping"
   ]
  },
  {
   "cell_type": "code",
   "execution_count": null,
   "metadata": {},
   "outputs": [],
   "source": [
    "grouped_df = df.groupby(['object', 'financing', 'project', 'budget']).size().reset_index().rename(columns={0:'count'})\n",
    "grouped_df"
   ]
  },
  {
   "cell_type": "code",
   "execution_count": null,
   "metadata": {},
   "outputs": [],
   "source": [
    "unique_df = grouped_df.groupby(['object', 'financing', 'project'], as_index=False).apply(lambda x: x[x['count'] == x['count'].max()]).reset_index(drop=True)\n",
    "unique_df"
   ]
  },
  {
   "cell_type": "code",
   "execution_count": null,
   "metadata": {},
   "outputs": [],
   "source": [
    "print(f'Removed from original dataset (in current step): {round((1 - unique_df[\"count\"].sum() / len(df)) * 100, 2)}%')"
   ]
  },
  {
   "cell_type": "code",
   "execution_count": null,
   "metadata": {},
   "outputs": [],
   "source": [
    "unique_df.nunique()"
   ]
  },
  {
   "cell_type": "markdown",
   "execution_count": null,
   "metadata": {},
   "outputs": [],
   "source": [
    "## Clear too rare targets (these targets is obviously deprecated by business)"
   ]
  },
  {
   "cell_type": "code",
   "execution_count": null,
   "metadata": {},
   "outputs": [],
   "source": [
    "budget_count_df = unique_df.groupby('budget').agg({'count': ['count', 'sum']})\n",
    "budget_count_df.columns = ['count', 'original_count']\n",
    "budget_count_df"
   ]
  },
  {
   "cell_type": "code",
   "execution_count": null,
   "metadata": {},
   "outputs": [],
   "source": [
    "too_rare_budgets_df = budget_count_df[(budget_count_df['count'] < 3) | (budget_count_df['original_count'] < 150)]\n",
    "too_rare_budgets_df"
   ]
  },
  {
   "cell_type": "code",
   "execution_count": null,
   "metadata": {},
   "outputs": [],
   "source": [
    "budget_count_df[~budget_count_df.index.isin(too_rare_budgets_df.index)]"
   ]
  },
  {
   "cell_type": "code",
   "execution_count": null,
   "metadata": {},
   "outputs": [],
   "source": [
    "cleared_df = unique_df[~unique_df.budget.isin(too_rare_budgets_df.index)]\n",
    "cleared_df"
   ]
  },
  {
   "cell_type": "code",
   "execution_count": null,
   "metadata": {},
   "outputs": [],
   "source": [
    "print(f'Removed from original dataset (in current step): {round((1 - cleared_df[\"count\"].sum() / len(df)) * 100, 2)}%')"
   ]
  },
  {
   "cell_type": "markdown",
   "metadata": {},
   "source": [
    "### Replace 'None' to NaN back"
   ],
   "execution_count": null,
   "outputs": []
  },
  {
   "cell_type": "code",
   "execution_count": null,
   "metadata": {},
   "outputs": [],
   "source": [
    "orig_df.replace('None', np.NaN, inplace=True)\n",
    "cleared_df.replace('None', np.NaN, inplace=True)"
   ]
  },
  {
   "cell_type": "markdown",
   "metadata": {},
   "source": [
    "## Remove unknown categorical features from original dataset"
   ],
   "execution_count": null,
   "outputs": []
  },
  {
   "cell_type": "code",
   "execution_count": null,
   "metadata": {},
   "outputs": [],
   "source": [
    "pd.DataFrame([cleared_df.nunique(), orig_df.nunique()])"
   ]
  },
  {
   "cell_type": "code",
   "execution_count": null,
   "metadata": {},
   "outputs": [],
   "source": [
    "unknown_objects = set(orig_df.object.unique()).difference(set(cleared_df.object.unique()))\n",
    "unknown_objects"
   ]
  },
  {
   "cell_type": "code",
   "execution_count": null,
   "metadata": {},
   "outputs": [],
   "source": [
    "unknown_financing = set(orig_df.financing.unique()).difference(set(cleared_df.financing.unique()))\n",
    "unknown_financing"
   ]
  },
  {
   "cell_type": "code",
   "execution_count": null,
   "metadata": {},
   "outputs": [],
   "source": [
    "unknown_projects = set(orig_df.project.unique()).difference(set(cleared_df.project.unique()))\n",
    "unknown_projects"
   ]
  },
  {
   "cell_type": "code",
   "execution_count": null,
   "metadata": {},
   "outputs": [],
   "source": [
    "unknown_features = orig_df[orig_df.object.isin(unknown_objects) | orig_df.financing.isin(unknown_financing)| orig_df.project.isin(unknown_projects)].index\n",
    "len(unknown_features)"
   ]
  },
  {
   "cell_type": "code",
   "execution_count": null,
   "metadata": {},
   "outputs": [],
   "source": [
    "orig_df.drop(unknown_features, inplace=True)"
   ]
  },
  {
   "cell_type": "code",
   "execution_count": null,
   "metadata": {},
   "outputs": [],
   "source": [
    "pd.DataFrame([cleared_df.nunique(), orig_df.nunique()])"
   ]
  },
  {
   "cell_type": "markdown",
   "execution_count": null,
   "metadata": {},
   "outputs": [],
   "source": [
    "## Save to TSV"
   ]
  },
  {
   "cell_type": "code",
   "execution_count": null,
   "metadata": {},
   "outputs": [],
   "source": [
    "Path(f'{RESOURCES_PATH}/dataset/budget').mkdir(parents=True, exist_ok=True)"
   ]
  },
  {
   "cell_type": "code",
   "execution_count": null,
   "metadata": {},
   "outputs": [],
   "source": [
    "orig_df.to_csv(f'{RESOURCES_PATH}/dataset/budget/original.tsv', index=False, sep='\\t')\n",
    "cleared_df.to_csv(f'{RESOURCES_PATH}/dataset/budget/cleared.tsv', index=False, sep='\\t')"
   ]
  },
  {
   "cell_type": "markdown",
   "metadata": {},
   "source": [
    "## List unique targets for label encoding"
   ],
   "execution_count": null,
   "outputs": []
  },
  {
   "cell_type": "code",
   "execution_count": null,
   "metadata": {},
   "outputs": [],
   "source": [
    "cleared_targets = sorted(set(cleared_df.budget.unique()))\n",
    "additional_orig_targets = sorted(set(orig_df.budget.unique()).difference(set(cleared_targets)))\n",
    "\n",
    "with open(f'{RESOURCES_PATH}/dataset/budget/targets.txt', 'w') as fout:\n",
    "    print(*cleared_targets, sep='\\n', file=fout)\n",
    "    print(*additional_orig_targets, sep='\\n', file=fout)"
   ]
  }
 ]
}