{
 "cells": [
  {
   "cell_type": "code",
   "execution_count": null,
   "metadata": {},
   "outputs": [],
   "source": [
    "RESOURCES_PATH = '../../resources'"
   ]
  },
  {
   "cell_type": "code",
   "execution_count": null,
   "metadata": {},
   "outputs": [],
   "source": [
    "from pathlib import Path\n",
    "from datetime import datetime\n",
    "import re\n",
    "import pandas as pd\n",
    "import numpy as np"
   ]
  },
  {
   "cell_type": "markdown",
   "metadata": {},
   "source": [
    "## Load dataset"
   ]
  },
  {
   "cell_type": "code",
   "execution_count": null,
   "metadata": {
    "tags": []
   },
   "outputs": [],
   "source": [
    "df = pd.read_csv(f'{RESOURCES_PATH}/dataset/original.csv')\n",
    "\n",
    "print(f'Length: {len(df)}')\n",
    "df.head()"
   ]
  },
  {
   "cell_type": "code",
   "execution_count": null,
   "metadata": {},
   "outputs": [],
   "source": [
    "rename_columns_map = {\n",
    "    'ЦФО': 'object',\n",
    "    'ЦФОГУИД': 'object_guid',\n",
    "    'ВЦСШапка': 'financing',\n",
    "    'ВЦСШапка ГУИД': 'financing_guid',\n",
    "    'Ви пи проект шапка': 'project',\n",
    "    'Ви пи проект шапка ГУИД': 'project_guid',\n",
    "    'Номенклатура': 'nomenclature',\n",
    "    'Номенклатура ГУИД': 'nomenclature_guid',\n",
    "    'Характеристика номенклатуры': 'description',\n",
    "    'Код ОКВЭД': 'code1',\n",
    "    'Код ОКВЭДГУИД': 'code1_guid',\n",
    "    'Код ОКПД': 'code2',\n",
    "    'Код ОКПДГУИД': 'code2_guid',\n",
    "    'ВЦСТаблица ДЭП': '_financing',\n",
    "    'ВЦСТаблица ДЭПГУИД': '_financing_guid',\n",
    "    'Ви пи проект таблица ДЭП': '_project',\n",
    "    'Ви пи проект таблица ДЭПГУИД': '_project_guid',\n",
    "    'Мероприятие': 'event',\n",
    "    'Мероприятие ГУИД': 'event_guid',\n",
    "    'Статья оборотов': 'turnover',\n",
    "    'Статья оборотов ГУИД': 'turnover_guid',\n",
    "    'Смета': 'budget',\n",
    "    'Смета ГУИД': 'budget_guid',\n",
    "    'КВР': 'code3',\n",
    "    'КВРГУИД': 'code3_guid'\n",
    "}\n",
    "\n",
    "df.columns = list(map(lambda i: rename_columns_map[i], df.columns))\n",
    "df.head()"
   ]
  },
  {
   "cell_type": "code",
   "execution_count": null,
   "metadata": {},
   "outputs": [],
   "source": [
    "df = df[['object', 'financing', 'project', 'budget']]\n",
    "df"
   ]
  },
  {
   "cell_type": "code",
   "execution_count": null,
   "metadata": {},
   "outputs": [],
   "source": [
    "df.isnull().sum()"
   ]
  },
  {
   "cell_type": "code",
   "execution_count": null,
   "metadata": {},
   "outputs": [],
   "source": [
    "df.drop(df[df.budget.isnull()].index, inplace=True)\n",
    "df.isnull().sum()"
   ]
  },
  {
   "cell_type": "code",
   "execution_count": null,
   "metadata": {},
   "outputs": [],
   "source": [
    "df.isnull().sum() / len(df)"
   ]
  },
  {
   "cell_type": "code",
   "execution_count": null,
   "metadata": {},
   "outputs": [],
   "source": [
    "df.nunique()"
   ]
  },
  {
   "cell_type": "markdown",
   "metadata": {},
   "source": [
    "## Replace year-specific target to current year target"
   ]
  },
  {
   "cell_type": "code",
   "execution_count": null,
   "metadata": {},
   "outputs": [],
   "source": [
    "current_year = datetime.now().year - 2000\n",
    "\n",
    "for i in range(10, current_year):\n",
    "    df.budget.replace(f'Ппкс 20{i}', f'Ппкс 20{current_year}', inplace=True)\n",
    "    df.budget.replace(f'Субсидия на ИЦ_ОЗОБ 20{i}', f'Субсидия на ИЦ_ОЗОБ 20{current_year}', inplace=True)"
   ]
  },
  {
   "cell_type": "markdown",
   "metadata": {},
   "source": [
    "## 'Financing' feature info"
   ]
  },
  {
   "cell_type": "code",
   "execution_count": null,
   "metadata": {},
   "outputs": [],
   "source": [
    "df.financing.value_counts()"
   ]
  },
  {
   "cell_type": "markdown",
   "metadata": {},
   "source": [
    "#### Define original dataset"
   ]
  },
  {
   "cell_type": "code",
   "execution_count": null,
   "metadata": {},
   "outputs": [],
   "source": [
    "orig_df = df.copy()"
   ]
  },
  {
   "cell_type": "markdown",
   "metadata": {},
   "source": [
    "## Clear to unique tuples"
   ]
  },
  {
   "cell_type": "code",
   "execution_count": null,
   "metadata": {},
   "outputs": [],
   "source": [
    "df.fillna('None', inplace=True) # Fill N/A for correct grouping"
   ]
  },
  {
   "cell_type": "code",
   "execution_count": null,
   "metadata": {},
   "outputs": [],
   "source": [
    "grouped_df = df.groupby(['object', 'financing', 'project', 'budget']).size().reset_index().rename(columns={0:'count'})\n",
    "grouped_df"
   ]
  },
  {
   "cell_type": "code",
   "execution_count": null,
   "metadata": {},
   "outputs": [],
   "source": [
    "unique_df = grouped_df.groupby(['object', 'financing', 'project'], as_index=False).apply(lambda x: x[x['count'] == x['count'].max()]).reset_index(drop=True)\n",
    "unique_df"
   ]
  },
  {
   "cell_type": "code",
   "execution_count": null,
   "metadata": {
    "tags": []
   },
   "outputs": [],
   "source": [
    "print(f'Removed from original dataset (in current step): {round((1 - unique_df[\"count\"].sum() / len(df)) * 100, 2)}%')"
   ]
  },
  {
   "cell_type": "code",
   "execution_count": null,
   "metadata": {},
   "outputs": [],
   "source": [
    "unique_df.nunique()"
   ]
  },
  {
   "cell_type": "markdown",
   "metadata": {},
   "source": [
    "## Clear too rare targets (these targets is obviously deprecated by business)"
   ]
  },
  {
   "cell_type": "code",
   "execution_count": null,
   "metadata": {},
   "outputs": [],
   "source": [
    "budget_count_df = unique_df.groupby('budget').agg({'count': ['count', 'sum']})\n",
    "budget_count_df.columns = ['count', 'original_count']\n",
    "budget_count_df"
   ]
  },
  {
   "cell_type": "code",
   "execution_count": null,
   "metadata": {},
   "outputs": [],
   "source": [
    "too_rare_budgets_df = budget_count_df[(budget_count_df['count'] < 3) | (budget_count_df['original_count'] < 150)]\n",
    "too_rare_budgets_df"
   ]
  },
  {
   "cell_type": "code",
   "execution_count": null,
   "metadata": {},
   "outputs": [],
   "source": [
    "budget_count_df[~budget_count_df.index.isin(too_rare_budgets_df.index)]"
   ]
  },
  {
   "cell_type": "code",
   "execution_count": null,
   "metadata": {},
   "outputs": [],
   "source": [
    "cleared_df = unique_df[~unique_df.budget.isin(too_rare_budgets_df.index)]\n",
    "cleared_df"
   ]
  },
  {
   "cell_type": "code",
   "execution_count": null,
   "metadata": {
    "tags": []
   },
   "outputs": [],
   "source": [
    "print(f'Removed from original dataset (in current step): {round((1 - cleared_df[\"count\"].sum() / len(df)) * 100, 2)}%')"
   ]
  },
  {
   "cell_type": "markdown",
   "metadata": {},
   "source": [
    "### Replace 'None' to NaN back"
   ]
  },
  {
   "cell_type": "code",
   "execution_count": null,
   "metadata": {},
   "outputs": [],
   "source": [
    "orig_df.replace('None', np.NaN, inplace=True)\n",
    "cleared_df.replace('None', np.NaN, inplace=True)"
   ]
  },
  {
   "cell_type": "markdown",
   "metadata": {},
   "source": [
    "## Remove unknown categorical features from original dataset"
   ]
  },
  {
   "cell_type": "code",
   "execution_count": null,
   "metadata": {},
   "outputs": [],
   "source": [
    "pd.DataFrame([cleared_df.nunique(), orig_df.nunique()])"
   ]
  },
  {
   "cell_type": "code",
   "execution_count": null,
   "metadata": {},
   "outputs": [],
   "source": [
    "unknown_objects = set(orig_df.object.unique()).difference(set(cleared_df.object.unique()))\n",
    "unknown_objects"
   ]
  },
  {
   "cell_type": "code",
   "execution_count": null,
   "metadata": {},
   "outputs": [],
   "source": [
    "unknown_financing = set(orig_df.financing.unique()).difference(set(cleared_df.financing.unique()))\n",
    "unknown_financing"
   ]
  },
  {
   "cell_type": "code",
   "execution_count": null,
   "metadata": {},
   "outputs": [],
   "source": [
    "unknown_projects = set(orig_df.project.unique()).difference(set(cleared_df.project.unique()))\n",
    "unknown_projects"
   ]
  },
  {
   "cell_type": "code",
   "execution_count": null,
   "metadata": {},
   "outputs": [],
   "source": [
    "unknown_features = orig_df[orig_df.object.isin(unknown_objects) | orig_df.financing.isin(unknown_financing)| orig_df.project.isin(unknown_projects)].index\n",
    "len(unknown_features)"
   ]
  },
  {
   "cell_type": "code",
   "execution_count": null,
   "metadata": {},
   "outputs": [],
   "source": [
    "orig_df.drop(unknown_features, inplace=True)"
   ]
  },
  {
   "cell_type": "code",
   "execution_count": null,
   "metadata": {},
   "outputs": [],
   "source": [
    "pd.DataFrame([cleared_df.nunique(), orig_df.nunique()])"
   ]
  },
  {
   "cell_type": "markdown",
   "metadata": {},
   "source": [
    "## Save to TSV"
   ]
  },
  {
   "cell_type": "code",
   "execution_count": null,
   "metadata": {},
   "outputs": [],
   "source": [
    "Path(f'{RESOURCES_PATH}/dataset/budget').mkdir(parents=True, exist_ok=True)"
   ]
  },
  {
   "cell_type": "code",
   "execution_count": null,
   "metadata": {},
   "outputs": [],
   "source": [
    "orig_df.to_csv(f'{RESOURCES_PATH}/dataset/budget/original.tsv', index=False, sep='\\t')\n",
    "cleared_df.to_csv(f'{RESOURCES_PATH}/dataset/budget/cleared.tsv', index=False, sep='\\t')"
   ]
  },
  {
   "cell_type": "markdown",
   "metadata": {},
   "source": [
    "## List unique targets for label encoding"
   ]
  },
  {
   "cell_type": "code",
   "execution_count": null,
   "metadata": {},
   "outputs": [],
   "source": [
    "cleared_targets = sorted(set(cleared_df.budget.unique()))\n",
    "additional_orig_targets = sorted(set(orig_df.budget.unique()).difference(set(cleared_targets)))\n",
    "\n",
    "with open(f'{RESOURCES_PATH}/dataset/budget/targets.txt', 'w') as fout:\n",
    "    print(*cleared_targets, sep='\\n', file=fout)\n",
    "    print(*additional_orig_targets, sep='\\n', file=fout)"
   ]
  },
  {
   "cell_type": "code",
   "execution_count": null,
   "metadata": {},
   "outputs": [],
   "source": []
  }
 ],
 "metadata": {
  "language_info": {
   "name": "python",
   "codemirror_mode": {
    "name": "ipython",
    "version": 3
   },
   "version": "3.6.9-final"
  },
  "orig_nbformat": 2,
  "file_extension": ".py",
  "mimetype": "text/x-python",
  "name": "python",
  "npconvert_exporter": "python",
  "pygments_lexer": "ipython3",
  "version": 3,
  "kernelspec": {
   "name": "python36964bitvenvvenv5ea2b9d028884ecdb1defa97f4866164",
   "display_name": "Python 3.6.9 64-bit ('.venv': venv)"
  }
 },
 "nbformat": 4,
 "nbformat_minor": 2
}