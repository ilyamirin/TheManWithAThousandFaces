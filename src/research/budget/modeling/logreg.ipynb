{
 "nbformat": 4,
 "nbformat_minor": 2,
 "metadata": {
  "language_info": {
   "name": "python",
   "codemirror_mode": {
    "name": "ipython",
    "version": 3
   },
   "version": "3.6.9-final"
  },
  "orig_nbformat": 2,
  "file_extension": ".py",
  "mimetype": "text/x-python",
  "name": "python",
  "npconvert_exporter": "python",
  "pygments_lexer": "ipython3",
  "version": 3,
  "kernelspec": {
   "name": "python36964bitvenvvenv5ea2b9d028884ecdb1defa97f4866164",
   "display_name": "Python 3.6.9 64-bit ('.venv': venv)"
  }
 },
 "cells": [
  {
   "cell_type": "code",
   "execution_count": null,
   "metadata": {},
   "outputs": [],
   "source": [
    "RESOURCES_PATH = '../../../resources'"
   ]
  },
  {
   "cell_type": "code",
   "execution_count": null,
   "metadata": {},
   "outputs": [],
   "source": [
    "MAX_EPOCHS = 1000"
   ]
  },
  {
   "cell_type": "code",
   "execution_count": null,
   "metadata": {},
   "outputs": [],
   "source": [
    "from pathlib import Path\n",
    "import numpy as np\n",
    "import pandas as pd\n",
    "from sklearn.preprocessing import LabelEncoder\n",
    "from sklearn.metrics import accuracy_score, log_loss, make_scorer\n",
    "from sklearn.model_selection import StratifiedKFold\n",
    "from sklearn.model_selection import GridSearchCV\n",
    "from sklearn.linear_model import LogisticRegression"
   ]
  },
  {
   "cell_type": "markdown",
   "metadata": {},
   "source": [
    "## Load data"
   ],
   "execution_count": null,
   "outputs": []
  },
  {
   "cell_type": "code",
   "execution_count": null,
   "metadata": {},
   "outputs": [],
   "source": [
    "df = pd.read_csv(f'{RESOURCES_PATH}/dataset/budget/cleared.tsv', sep='\\t')\n",
    "orig_df = pd.read_csv(f'{RESOURCES_PATH}/dataset/budget/original.tsv', sep='\\t')\n",
    "\n",
    "df.fillna('None', inplace=True)\n",
    "orig_df.fillna('None', inplace=True)\n",
    "\n",
    "print(f'Datset length: {len(df)}')\n",
    "df.head()"
   ]
  },
  {
   "cell_type": "markdown",
   "metadata": {},
   "source": [
    "## Prepare data"
   ],
   "execution_count": null,
   "outputs": []
  },
  {
   "cell_type": "code",
   "execution_count": null,
   "metadata": {},
   "outputs": [],
   "source": [
    "le = LabelEncoder()\n",
    "le.classes_ = np.array(Path(f'{RESOURCES_PATH}/dataset/budget/targets.txt').read_text().split('\\n'))"
   ]
  },
  {
   "cell_type": "code",
   "execution_count": null,
   "metadata": {},
   "outputs": [],
   "source": [
    "def to_vector(df):\n",
    "    x = df[['object', 'financing', 'project']]\n",
    "    y = df.budget\n",
    "\n",
    "    x = pd.get_dummies(x)\n",
    "    y = le.transform(y)\n",
    "\n",
    "    return x, y"
   ]
  },
  {
   "cell_type": "code",
   "execution_count": null,
   "metadata": {},
   "outputs": [],
   "source": [
    "x, y = to_vector(df)\n",
    "orig_x, orig_y = to_vector(orig_df)\n",
    "\n",
    "x.head()"
   ]
  },
  {
   "cell_type": "markdown",
   "metadata": {},
   "source": [
    "## Train"
   ],
   "execution_count": null,
   "outputs": []
  },
  {
   "cell_type": "code",
   "execution_count": null,
   "metadata": {},
   "outputs": [],
   "source": [
    "param_grid = {\n",
    "    'penalty': ['l1', 'l2', 'elasticnet'],\n",
    "    'solver': ['newton-cg', 'lbfgs', 'liblinear', 'saga'],\n",
    "    'class_weight': [None, 'balanced'],\n",
    "    'dual': [False, True],\n",
    "    'max_iter': [MAX_EPOCHS],\n",
    "    'random_state': [42]\n",
    "}\n",
    "\n",
    "model_search_cv = GridSearchCV(\n",
    "    LogisticRegression(), \n",
    "    param_grid,\n",
    "    scoring={\n",
    "        'neg_log_loss': make_scorer(log_loss, needs_proba=True, labels=y, greater_is_better=False), \n",
    "        'accuracy': make_scorer(accuracy_score)\n",
    "    },\n",
    "    refit='neg_log_loss',\n",
    "    cv=StratifiedKFold(10, shuffle=True, random_state=42),\n",
    "    n_jobs=-1,\n",
    "    verbose=1\n",
    ")"
   ]
  },
  {
   "cell_type": "code",
   "execution_count": null,
   "metadata": {},
   "outputs": [],
   "source": [
    "model_search_cv.fit(x, y);"
   ]
  },
  {
   "cell_type": "markdown",
   "metadata": {},
   "source": [
    "#### Show Seach CV Results"
   ],
   "execution_count": null,
   "outputs": []
  },
  {
   "cell_type": "code",
   "execution_count": null,
   "metadata": {},
   "outputs": [],
   "source": [
    "cv_result_df = pd.DataFrame(model_search_cv.cv_results_)\n",
    "\n",
    "cv_result_df = cv_result_df[['param_class_weight', 'param_dual', 'param_max_iter', \n",
    "                             'param_penalty', 'param_solver', 'mean_fit_time', \n",
    "                             'mean_test_neg_log_loss', 'mean_test_accuracy', 'std_test_accuracy']]\n",
    "cv_result_df.dropna(subset=['mean_test_neg_log_loss'], inplace=True)\n",
    "\n",
    "cv_result_df.sort_values(by=['mean_test_neg_log_loss', 'mean_test_accuracy'], ascending=False)"
   ]
  },
  {
   "cell_type": "code",
   "execution_count": null,
   "metadata": {},
   "outputs": [],
   "source": [
    "model = model_search_cv.best_estimator_\n",
    "model_i = model_search_cv.best_index_"
   ]
  },
  {
   "cell_type": "markdown",
   "metadata": {},
   "source": [
    "## Evaluation"
   ],
   "execution_count": null,
   "outputs": []
  },
  {
   "cell_type": "code",
   "execution_count": null,
   "metadata": {},
   "outputs": [],
   "source": [
    "def accuracy_report(y_true, y_pred_proba):\n",
    "    return round(accuracy_score(y_true, y_pred_proba.argmax(axis=1)), 4)\n",
    "\n",
    "def logloss_report(y_true, y_pred_proba):\n",
    "    return round(log_loss(y_true, y_pred_proba), 4)\n",
    "\n",
    "def to_orig_shape(y_pred_proba):\n",
    "    shape_diff = len(le.classes_) - y_pred_proba.shape[1] - 1\n",
    "    return np.pad(y_pred_proba, ((0, 0), (0, shape_diff)), 'constant', constant_values=(0, 0))"
   ]
  },
  {
   "cell_type": "code",
   "execution_count": null,
   "metadata": {},
   "outputs": [],
   "source": [
    "orig_y_pred_proba = to_orig_shape(model.predict_proba(orig_x))"
   ]
  },
  {
   "cell_type": "code",
   "execution_count": null,
   "metadata": {},
   "outputs": [],
   "source": [
    "report = {\n",
    "    'Name': f'Logistic Regression',\n",
    "    '[Cleared CV] Accuracy': cv_result_df.mean_test_accuracy[model_i],\n",
    "    '[Cleared CV] Log Loss': -cv_result_df.mean_test_neg_log_loss[model_i],\n",
    "    '[Original] Accuracy': accuracy_report(orig_y, orig_y_pred_proba),\n",
    "    '[Original] Log Loss': logloss_report(orig_y, orig_y_pred_proba),\n",
    "    'Training time (sec)': cv_result_df.mean_fit_time[model_i]\n",
    "}\n",
    "\n",
    "report_df = pd.DataFrame(report, index=['']).T\n",
    "\n",
    "report_df.to_csv('reports/logreg.tsv', sep='\\t', header=False)\n",
    "\n",
    "report_df"
   ]
  },
  {
   "cell_type": "code",
   "execution_count": null,
   "metadata": {},
   "outputs": [],
   "source": []
  }
 ]
}