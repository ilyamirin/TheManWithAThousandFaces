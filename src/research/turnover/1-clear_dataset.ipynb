{
 "nbformat": 4,
 "nbformat_minor": 2,
 "metadata": {
  "language_info": {
   "name": "python",
   "codemirror_mode": {
    "name": "ipython",
    "version": 3
   },
   "version": "3.6.9-final"
  },
  "orig_nbformat": 2,
  "file_extension": ".py",
  "mimetype": "text/x-python",
  "name": "python",
  "npconvert_exporter": "python",
  "pygments_lexer": "ipython3",
  "version": 3,
  "kernelspec": {
   "name": "python36964bitvenvvenv5ea2b9d028884ecdb1defa97f4866164",
   "display_name": "Python 3.6.9 64-bit ('.venv': venv)"
  }
 },
 "cells": [
  {
   "cell_type": "code",
   "execution_count": null,
   "metadata": {},
   "outputs": [],
   "source": [
    "import pickle\n",
    "import pandas as pd\n",
    "import numpy as np\n",
    "from sklearn.model_selection import train_test_split\n",
    "from sklearn.preprocessing import LabelEncoder"
   ]
  },
  {
   "cell_type": "markdown",
   "execution_count": null,
   "metadata": {},
   "outputs": [],
   "source": [
    "## Load dataset"
   ]
  },
  {
   "cell_type": "code",
   "execution_count": null,
   "metadata": {},
   "outputs": [],
   "source": [
    "df = pd.read_csv(\"../../resources/dataset/original.csv\")\n",
    "df"
   ]
  },
  {
   "cell_type": "code",
   "execution_count": null,
   "metadata": {},
   "outputs": [],
   "source": [
    "df = df[['nomenclature', 'description', 'turnover']]\n",
    "df"
   ]
  },
  {
   "cell_type": "code",
   "execution_count": null,
   "metadata": {},
   "outputs": [],
   "source": [
    "df.isnull().sum()"
   ]
  },
  {
   "cell_type": "code",
   "execution_count": null,
   "metadata": {},
   "outputs": [],
   "source": [
    "df.drop(df[df.turnover.isnull()].index, inplace=True)\n",
    "df.isnull().sum()"
   ]
  },
  {
   "cell_type": "code",
   "execution_count": null,
   "metadata": {},
   "outputs": [],
   "source": [
    "df.fillna('', inplace=True)\n",
    "df.isnull().sum()"
   ]
  },
  {
   "cell_type": "markdown",
   "execution_count": null,
   "metadata": {},
   "outputs": [],
   "source": [
    "## Split to (original) train/test"
   ]
  },
  {
   "cell_type": "code",
   "execution_count": null,
   "metadata": {},
   "outputs": [],
   "source": [
    "df.drop(df[df.turnover.isin(df.turnover.value_counts()[df.turnover.value_counts() == 1].index)].index, inplace=True)"
   ]
  },
  {
   "cell_type": "code",
   "execution_count": null,
   "metadata": {},
   "outputs": [],
   "source": [
    "df, original_test_df = train_test_split(df, test_size=0.1, stratify=df.turnover, random_state=42)\n",
    "len(df), len(original_test_df)"
   ]
  },
  {
   "cell_type": "code",
   "execution_count": null,
   "metadata": {},
   "outputs": [],
   "source": [
    "original_test_df.to_csv('../../resources/dataset/turnover/original_test.tsv', index=False, sep='\\t')"
   ]
  },
  {
   "cell_type": "markdown",
   "execution_count": null,
   "metadata": {},
   "outputs": [],
   "source": [
    "## Clear train to only unique tuples"
   ]
  },
  {
   "cell_type": "code",
   "execution_count": null,
   "metadata": {},
   "outputs": [],
   "source": [
    "partly_unique_df = df.groupby(['nomenclature', 'description', 'turnover']).size().reset_index().rename(columns={0:'count'})\n",
    "partly_unique_df"
   ]
  },
  {
   "cell_type": "code",
   "execution_count": null,
   "metadata": {},
   "outputs": [],
   "source": [
    "unique_df = partly_unique_df.groupby(['nomenclature', 'description'], as_index=False).apply(lambda x: x[x['count'] == x['count'].max()]).reset_index(drop=True)\n",
    "unique_df"
   ]
  },
  {
   "cell_type": "code",
   "execution_count": null,
   "metadata": {},
   "outputs": [],
   "source": [
    "print(f'Removed from original dataset: {round((1 - unique_df[\"count\"].sum() / partly_unique_df[\"count\"].sum()) * 100, 2)}%')"
   ]
  },
  {
   "cell_type": "markdown",
   "execution_count": null,
   "metadata": {},
   "outputs": [],
   "source": [
    "## Clear too rare targets"
   ]
  },
  {
   "cell_type": "code",
   "execution_count": null,
   "metadata": {},
   "outputs": [],
   "source": [
    "unique_df.nunique()"
   ]
  },
  {
   "cell_type": "code",
   "execution_count": null,
   "metadata": {},
   "outputs": [],
   "source": [
    "rare_turnover_df = unique_df.groupby('turnover').agg({'count': ['count', 'sum']})\n",
    "rare_turnover_df.columns = ['count', 'original_count']\n",
    "rare_turnover_df"
   ]
  },
  {
   "cell_type": "code",
   "execution_count": null,
   "metadata": {},
   "outputs": [],
   "source": [
    "rare_turnovers = rare_turnover_df[(rare_turnover_df['count'] < 7) & (rare_turnover_df['original_count'] < 150)].index\n",
    "len(rare_turnovers)"
   ]
  },
  {
   "cell_type": "code",
   "execution_count": null,
   "metadata": {},
   "outputs": [],
   "source": [
    "cleared_df = unique_df[~unique_df.turnover.isin(rare_turnovers)]\n",
    "cleared_df"
   ]
  },
  {
   "cell_type": "markdown",
   "execution_count": null,
   "metadata": {},
   "outputs": [],
   "source": [
    "## Split to train/test cleared_df dataset"
   ]
  },
  {
   "cell_type": "code",
   "execution_count": null,
   "metadata": {},
   "outputs": [],
   "source": [
    "cleared_train_df, cleared_test_df = train_test_split(cleared_df, test_size=0.2, stratify=cleared_df.turnover, random_state=42)\n",
    "len(cleared_train_df), len(cleared_test_df)"
   ]
  },
  {
   "cell_type": "code",
   "execution_count": null,
   "metadata": {},
   "outputs": [],
   "source": [
    "cleared_train_df.to_csv('../../resources/dataset/turnover/cleared_train.tsv', index=False, sep='\\t')\n",
    "cleared_test_df.to_csv('../../resources/dataset/turnover/cleared_test.tsv', index=False, sep='\\t')"
   ]
  },
  {
   "cell_type": "markdown",
   "execution_count": null,
   "metadata": {},
   "outputs": [],
   "source": [
    "## List unique targets for label encoding"
   ]
  },
  {
   "cell_type": "code",
   "execution_count": null,
   "metadata": {},
   "outputs": [],
   "source": [
    "train_df = pd.read_csv('../../resources/dataset/turnover/cleared_train.tsv', sep='\\t')\n",
    "test_df = pd.read_csv('../../resources/dataset/turnover/cleared_test.tsv', sep='\\t')\n",
    "original_test_df = pd.read_csv('../../resources/dataset/turnover/original_test.tsv', sep='\\t')\n",
    "\n",
    "cleared_targets = sorted(set(train_df.turnover.unique()).union(set(test_df.turnover.unique())))\n",
    "additional_original_targets = sorted(set(original_test_df.turnover.unique()).difference(set(cleared_targets)))\n",
    "\n",
    "le = LabelEncoder()\n",
    "le.classes_ = np.array(cleared_targets + additional_original_targets)\n",
    "\n",
    "with open('../../resources/dataset/turnover/label_encoder.pkl', 'wb') as fout:\n",
    "    pickle.dump(le, fout, pickle.HIGHEST_PROTOCOL)\n",
    "\n",
    "le.transform(train_df.turnover.unique()).max(), le.transform(test_df.turnover.unique()).max(), le.transform(original_test_df.turnover.unique()).max(), "
   ]
  },
  {
   "cell_type": "code",
   "execution_count": null,
   "metadata": {},
   "outputs": [],
   "source": [
    "print(*cleared_targets, sep=\"\\n\")"
   ]
  }
 ]
}