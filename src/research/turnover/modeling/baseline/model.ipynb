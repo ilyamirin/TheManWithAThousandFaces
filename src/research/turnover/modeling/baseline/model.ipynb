{
 "cells": [
  {
   "cell_type": "code",
   "execution_count": null,
   "metadata": {},
   "outputs": [],
   "source": [
    "import pickle\n",
    "import json\n",
    "import numpy as np\n",
    "import pandas as pd\n",
    "from sklearn.metrics import accuracy_score, log_loss, confusion_matrix\n",
    "import seaborn as sns\n",
    "import matplotlib.pyplot as plt"
   ]
  },
  {
   "cell_type": "markdown",
   "execution_count": null,
   "metadata": {},
   "outputs": [],
   "source": [
    "## Load dataset"
   ]
  },
  {
   "cell_type": "code",
   "execution_count": null,
   "metadata": {},
   "outputs": [],
   "source": [
    "train_df = pd.read_csv('../../../../resources/dataset/turnover/cleared_train.tsv', sep='\\t')\n",
    "test_df = pd.read_csv('../../../../resources/dataset/turnover/cleared_test.tsv', sep='\\t')\n",
    "original_test_df = pd.read_csv('../../../../resources/dataset/turnover/original_test.tsv', sep='\\t')\n",
    "\n",
    "train_df.fillna('', inplace=True)\n",
    "test_df.fillna('', inplace=True)\n",
    "original_test_df.fillna('', inplace=True)\n",
    "\n",
    "with open('../../../../resources/dataset/turnover/label_encoder.pkl', 'rb') as fin:\n",
    "    le = pickle.load(fin)\n",
    "\n",
    "train_df.turnover = le.transform(train_df.turnover)\n",
    "test_df.turnover = le.transform(test_df.turnover)\n",
    "original_test_df.turnover = le.transform(original_test_df.turnover)\n",
    "\n",
    "train_df.head()"
   ]
  },
  {
   "cell_type": "markdown",
   "execution_count": null,
   "metadata": {},
   "outputs": [],
   "source": [
    "## Train"
   ]
  },
  {
   "cell_type": "code",
   "execution_count": null,
   "metadata": {},
   "outputs": [],
   "source": [
    "np.random.seed(42)\n",
    "\n",
    "cleared_test_pred = np.random.choice(\n",
    "    train_df.turnover.value_counts(normalize=True).index,\n",
    "    size=len(test_df),\n",
    "    p=train_df.turnover.value_counts(normalize=True)\n",
    ")\n",
    "\n",
    "original_test_pred = np.random.choice(\n",
    "    train_df.turnover.value_counts(normalize=True).index,\n",
    "    size=len(original_test_df),\n",
    "    p=train_df.turnover.value_counts(normalize=True)\n",
    ")"
   ]
  },
  {
   "cell_type": "markdown",
   "execution_count": null,
   "metadata": {},
   "outputs": [],
   "source": [
    "## Evaluation"
   ]
  },
  {
   "cell_type": "code",
   "execution_count": null,
   "metadata": {},
   "outputs": [],
   "source": [
    "def get_report(y_pred, test_df):\n",
    "    y_true = test_df.turnover.to_numpy()\n",
    "\n",
    "    acc = accuracy_score(y_true, y_pred)\n",
    "    confusion_mtx = confusion_matrix(y_true, y_pred)\n",
    "\n",
    "    return {\n",
    "        'accuracy': acc,\n",
    "        'log_loss': -1,\n",
    "        'confusion_matrix': confusion_mtx.tolist()\n",
    "    }"
   ]
  },
  {
   "cell_type": "code",
   "execution_count": null,
   "metadata": {},
   "outputs": [],
   "source": [
    "report = {\n",
    "    'cleared_test': get_report(cleared_test_pred, test_df),\n",
    "    'original_test': get_report(original_test_pred, original_test_df)\n",
    "}\n",
    "\n",
    "with open('report.json', 'w') as fout:\n",
    "    json.dump(report, fout)"
   ]
  }
 ],
 "metadata": {
  "file_extension": ".py",
  "kernelspec": {
   "display_name": "Python 3.6.9 64-bit ('.venv': venv)",
   "language": "python",
   "name": "python36964bitvenvvenv5ea2b9d028884ecdb1defa97f4866164"
  },
  "language_info": {
   "codemirror_mode": {
    "name": "ipython",
    "version": 3
   },
   "file_extension": ".py",
   "mimetype": "text/x-python",
   "name": "python",
   "nbconvert_exporter": "python",
   "pygments_lexer": "ipython3",
   "version": "3.6.9-final"
  },
  "mimetype": "text/x-python",
  "name": "python",
  "npconvert_exporter": "python",
  "pygments_lexer": "ipython3",
  "version": 3
 },
 "nbformat": 4,
 "nbformat_minor": 2
}