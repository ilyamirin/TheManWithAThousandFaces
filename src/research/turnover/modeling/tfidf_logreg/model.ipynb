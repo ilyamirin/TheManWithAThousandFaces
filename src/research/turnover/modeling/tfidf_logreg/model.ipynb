{
 "nbformat": 4,
 "nbformat_minor": 2,
 "metadata": {
  "language_info": {
   "name": "python",
   "codemirror_mode": {
    "name": "ipython",
    "version": 3
   },
   "version": "3.6.9-final"
  },
  "orig_nbformat": 2,
  "file_extension": ".py",
  "mimetype": "text/x-python",
  "name": "python",
  "npconvert_exporter": "python",
  "pygments_lexer": "ipython3",
  "version": 3,
  "kernelspec": {
   "name": "python36964bitvenvvenv5ea2b9d028884ecdb1defa97f4866164",
   "display_name": "Python 3.6.9 64-bit ('.venv': venv)"
  }
 },
 "cells": [
  {
   "cell_type": "code",
   "execution_count": null,
   "metadata": {},
   "outputs": [],
   "source": [
    "RESOURCES_PATH = '../../../../resources'"
   ]
  },
  {
   "cell_type": "code",
   "execution_count": null,
   "metadata": {},
   "outputs": [],
   "source": [
    "from pathlib import Path\n",
    "from time import time, strftime, gmtime\n",
    "import multiprocessing\n",
    "import re\n",
    "import pickle\n",
    "import json\n",
    "import numpy as np\n",
    "import pandas as pd\n",
    "import matplotlib.pyplot as plt\n",
    "from scipy.sparse import hstack\n",
    "from sklearn.metrics import accuracy_score, log_loss, confusion_matrix\n",
    "from sklearn.feature_extraction.text import TfidfVectorizer\n",
    "from sklearn.linear_model import SGDClassifier\n",
    "import pymorphy2\n",
    "import nltk\n",
    "from nltk.corpus import stopwords"
   ]
  },
  {
   "cell_type": "code",
   "execution_count": null,
   "metadata": {},
   "outputs": [],
   "source": [
    "MAX_EPOCHS = 500\n",
    "EARLY_STOP_PATIENCE = 50"
   ]
  },
  {
   "cell_type": "code",
   "execution_count": null,
   "metadata": {},
   "outputs": [],
   "source": [
    "# nltk.download('stopwords')"
   ]
  },
  {
   "cell_type": "markdown",
   "execution_count": null,
   "metadata": {},
   "outputs": [],
   "source": [
    "## Load datasets"
   ]
  },
  {
   "cell_type": "code",
   "execution_count": null,
   "metadata": {},
   "outputs": [],
   "source": [
    "with open(f'{RESOURCES_PATH}/dataset/turnover/label_encoder.pkl', 'rb') as fin:\n",
    "    le = pickle.load(fin)"
   ]
  },
  {
   "cell_type": "code",
   "execution_count": null,
   "metadata": {},
   "outputs": [],
   "source": [
    "def load_df(name):\n",
    "    df = pd.read_csv(f'{RESOURCES_PATH}/dataset/turnover/{name}.tsv', sep='\\t')\n",
    "    df.fillna('', inplace=True)\n",
    "    df.turnover = le.transform(df.turnover)\n",
    "    return df"
   ]
  },
  {
   "cell_type": "code",
   "execution_count": null,
   "metadata": {},
   "outputs": [],
   "source": [
    "train_df = load_df('cleared_train')\n",
    "test_df = load_df('cleared_test')\n",
    "orig_test_df = load_df('original_test')\n",
    "\n",
    "train_df.head()"
   ]
  },
  {
   "cell_type": "markdown",
   "execution_count": null,
   "metadata": {},
   "outputs": [],
   "source": [
    "## Preprocess inputs"
   ]
  },
  {
   "cell_type": "code",
   "execution_count": null,
   "metadata": {},
   "outputs": [],
   "source": [
    "def clear_phrase(phrase):\n",
    "    lower_cased = phrase.lower()\n",
    "    without_special_chars = re.sub(r\"[^a-zА-я0-9 ]\", '', lower_cased)\n",
    "    without_excess_spaces = re.sub(r\" {2,}\", ' ', without_special_chars)\n",
    "    stripped = without_excess_spaces.strip()\n",
    "    return stripped"
   ]
  },
  {
   "cell_type": "code",
   "execution_count": null,
   "metadata": {},
   "outputs": [],
   "source": [
    "morph = pymorphy2.MorphAnalyzer()\n",
    "\n",
    "def stem_phrase(phrase):\n",
    "    return ' '.join([morph.parse(i)[0].normal_form for i in phrase.split()])"
   ]
  },
  {
   "cell_type": "code",
   "execution_count": null,
   "metadata": {},
   "outputs": [],
   "source": [
    "tfidf_vectorizer = TfidfVectorizer(stop_words=stopwords.words('russian'), ngram_range=(1, 3), min_df=1e-3, norm='l2')\n",
    "\n",
    "train_corpus = [stem_phrase(clear_phrase(i)) for i in list(train_df.nomenclature) + list(train_df.description)]\n",
    "\n",
    "tfidf_vectorizer.fit(train_corpus);"
   ]
  },
  {
   "cell_type": "code",
   "execution_count": null,
   "metadata": {},
   "outputs": [],
   "source": [
    "def to_vectors(df):\n",
    "    nom_prepaired = list(df.nomenclature.apply(lambda i: stem_phrase(clear_phrase(i))))\n",
    "    desc_prepaired = list(df.description.apply(lambda i: stem_phrase(clear_phrase(i))))\n",
    "\n",
    "    nom_x = tfidf_vectorizer.transform(nom_prepaired)\n",
    "    desc_x = tfidf_vectorizer.transform(desc_prepaired)\n",
    "    y = list(df.turnover)\n",
    "\n",
    "    return hstack((nom_x, desc_x)), y"
   ]
  },
  {
   "cell_type": "code",
   "execution_count": null,
   "metadata": {},
   "outputs": [],
   "source": [
    "x_train, y_train = to_vectors(train_df)\n",
    "x_test, y_test = to_vectors(test_df)\n",
    "x_orig_test, y_orig_test = to_vectors(orig_test_df)"
   ]
  },
  {
   "cell_type": "markdown",
   "execution_count": null,
   "metadata": {},
   "outputs": [],
   "source": [
    "## Train"
   ]
  },
  {
   "cell_type": "code",
   "execution_count": null,
   "metadata": {},
   "outputs": [],
   "source": [
    "model = SGDClassifier(\n",
    "    loss='log',\n",
    "    penalty='elasticnet',\n",
    "    shuffle=True,\n",
    "    max_iter=MAX_EPOCHS,\n",
    "    early_stopping=True,\n",
    "    n_iter_no_change=EARLY_STOP_PATIENCE,\n",
    "    random_state=42\n",
    ")"
   ]
  },
  {
   "cell_type": "code",
   "execution_count": null,
   "metadata": {},
   "outputs": [],
   "source": [
    "training_started_at = time()\n",
    "\n",
    "model.fit(x_train, y_train)\n",
    "\n",
    "training_time = time() - training_started_at"
   ]
  },
  {
   "cell_type": "markdown",
   "execution_count": null,
   "metadata": {},
   "outputs": [],
   "source": [
    "## Evaluation"
   ]
  },
  {
   "cell_type": "code",
   "execution_count": null,
   "metadata": {},
   "outputs": [],
   "source": [
    "def get_report(y_true, y_pred_proba):\n",
    "    return {\n",
    "        'accuracy': round(accuracy_score(y_true, y_pred_proba.argmax(axis=1)), 4),\n",
    "        'log_loss': round(log_loss(y_true, y_pred_proba, 4))\n",
    "    }"
   ]
  },
  {
   "cell_type": "code",
   "execution_count": null,
   "metadata": {},
   "outputs": [],
   "source": [
    "def expand_to_orig_size(y_pred_proba):\n",
    "    size_diff = max(y_orig_test) + 1 - y_pred_proba.shape[1]\n",
    "    return np.pad(y_pred_proba, ((0, 0), (0, size_diff)), 'constant', constant_values=(0, 0))"
   ]
  },
  {
   "cell_type": "code",
   "execution_count": null,
   "metadata": {},
   "outputs": [],
   "source": [
    "y_test_pred_proba = model.predict_proba(x_test)\n",
    "y_orig_test_pred_proba = model.predict_proba(x_orig_test)"
   ]
  },
  {
   "cell_type": "code",
   "execution_count": null,
   "metadata": {},
   "outputs": [],
   "source": [
    "cleared_report = get_report(y_test, y_test_pred_proba)\n",
    "orig_report = get_report(y_orig_test, expand_to_orig_size(y_orig_test_pred_proba))\n",
    "\n",
    "report = {\n",
    "    'Name': f'TF-IDF Logistic Regression',\n",
    "    '[Cleared Test] Accuracy': cleared_report['accuracy'],\n",
    "    '[Cleared Test] Log Loss': cleared_report['log_loss'],\n",
    "    '[Original Test] Accuracy': orig_report['accuracy'],\n",
    "    '[Original Test] Log Loss': orig_report['log_loss'],\n",
    "    'Training time': strftime(\"%Hh %Mm %Ss\", gmtime(training_time)),\n",
    "    'Training time (sec)': int(training_time),\n",
    "    'Model epoch': model.n_iter_ - EARLY_STOP_PATIENCE,\n",
    "    'Epochs': model.n_iter_\n",
    "}\n",
    "\n",
    "with open(f'report/base.json', 'w') as fout:\n",
    "    json.dump(report, fout, indent=4)"
   ]
  }
 ]
}